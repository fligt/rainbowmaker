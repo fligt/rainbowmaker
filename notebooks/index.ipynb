{
 "cells": [
  {
   "cell_type": "markdown",
   "metadata": {},
   "source": [
    "# Welcome to rainbowmaker\n",
    "\n",
    "> Compute dye colors from your UHPLC-PDA liquid chromatography data"
   ]
  },
  {
   "cell_type": "markdown",
   "metadata": {},
   "source": [
    "*Chroma* and *graphia* are the Greek words for color and for writing, drawing or describing. In the early days of liquid chromatography a piece of paper was used to separate different dye components in mixtures. The presence of different components was evidenced by different color bands in the paper. Ultra High Performance Liquid Chromatography (UHPLC) coupled with a Photo Diode Array (PDA) detector is a modern liquid chromatography technique that can be used to separate and identify different components in dyes and other samples.  \n",
    "\n",
    "In comparison to the historic technique of paper chromatography however, it is not obvious how to extract the color properties of dye components as these are hidden somewhere in the UHPLC-PDA chromatogram and absorbance spectra. In our lab we study historic dyes and their color is of primary importance. \n",
    "\n",
    "Rainbowmaker is an open source Python package based on color physics that can be used to compute dilution colors for individual dye components and mixtures from UHPLC-PDA data. \n",
    "\n",
    "This package is developed out in the open. If you are interested you can follow our ideas under construction in this documentation and already try out the Jupyter notebooks in this repository. Our goal is to make the package available for installation soon…\n",
    "\n",
    "Frank Ligterink and Sanne Berbers \n",
    "\n",
    "See link to documentation.  "
   ]
  }
 ],
 "metadata": {
  "kernelspec": {
   "display_name": "python3",
   "language": "python",
   "name": "python3"
  }
 },
 "nbformat": 4,
 "nbformat_minor": 4
}
