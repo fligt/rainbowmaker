{
 "cells": [
  {
   "cell_type": "raw",
   "metadata": {},
   "source": [
    "---\n",
    "skip_exec: true\n",
    "---"
   ]
  },
  {
   "cell_type": "code",
   "execution_count": null,
   "metadata": {},
   "outputs": [],
   "source": [
    "#| default_exp reader "
   ]
  },
  {
   "cell_type": "markdown",
   "metadata": {},
   "source": [
    "# Reading UPLC-PDA data \n",
    "\n",
    "> Getting started "
   ]
  },
  {
   "cell_type": "code",
   "execution_count": null,
   "metadata": {},
   "outputs": [],
   "source": [
    "#|hide \n",
    "%load_ext autoreload\n",
    "%autoreload 2 "
   ]
  },
  {
   "cell_type": "code",
   "execution_count": null,
   "metadata": {},
   "outputs": [],
   "source": [
    "#| hide \n",
    "import os\n",
    "import matplotlib.pyplot as plt "
   ]
  },
  {
   "cell_type": "markdown",
   "metadata": {},
   "source": [
    "As a very first step we need to read the PDA data from file. Thermo Chromeleon software can export this type of data to a text file that contains a header and a data block. All values are separated with tab characters. To read the data from the text file, import the function `read_pda()`.  "
   ]
  },
  {
   "cell_type": "code",
   "execution_count": null,
   "metadata": {},
   "outputs": [],
   "source": [
    "from rainbowmaker import read_pda"
   ]
  },
  {
   "cell_type": "code",
   "execution_count": null,
   "metadata": {},
   "outputs": [],
   "source": [
    "indir = '/home/frank/Work/Projecten/Revigo/data/benzylviolet-PDA-export' \n",
    "os.chdir(indir)"
   ]
  },
  {
   "cell_type": "code",
   "execution_count": null,
   "metadata": {},
   "outputs": [],
   "source": [
    "pda_filename = 'Sanne-Export-3d-data-Benzyl-violet_2022-11-28.txt' \n",
    "\n",
    "header, nms, times, pda_data = read_pda(pda_filename)"
   ]
  },
  {
   "cell_type": "code",
   "execution_count": null,
   "metadata": {},
   "outputs": [
    {
     "name": "stdout",
     "output_type": "stream",
     "text": [
      "File Path\tchrom://chromeleon/REL_DATA/Aanvragen/2018/2018-096 Benzyl violet/2022 juni.seq/576.smp/DAD1_Spectrum.field\n",
      "Spectral Field\tDAD1_Spectrum\n",
      "\n",
      "Injection Information:\n",
      "Data Vault\tREL_DATA\n",
      "Injection\tpos 70NCE \n",
      "Injection Number\t3\n",
      "Position\tVial:31\n",
      "Comment\t\n",
      "Processing Method\tQuantitative PDA 3.0\n",
      "Instrument Method\tAFFA 68.50min ddMS2 pos 70NCE\n",
      "Type\tUnknown\n",
      "Status\tFinished\n",
      "Injection Date\t21/06/2022\n",
      "Injection Time\t09:37:16\n",
      "Injection Volume (µL)\t1.00\n",
      "Dilution Factor\t1.0000\n",
      "Weight\t1.0000\n",
      "\n",
      "Raw Data Information:\n",
      "Time Min. (min)\t0.000167\n",
      "Time Max. (min)\t68.498500\n",
      "Scan Min. (nm)\t190.000000\n",
      "Scan Max. (nm)\t640.000000\n",
      "Signal Min. (mAU)\t-98.869449\n",
      "Signal Max. (mAU)\t1,970.848559\n",
      "Spectra\t82199\n",
      "Detector\tDAD1\n",
      "Detector Type\tUV\n",
      "Generating Data System\tChromeleon 7.2.9 Build 11323 (300176)\n",
      "Exporting Data System\tChromeleon 7.2.9.0\n",
      "Spectral Field\tDAD1_Spectrum\n",
      "Driver Name\tAgilent.IcfAdapter.Chromeleon.DdkIcfCore.dll\n",
      "\n",
      "Raw Data:\n",
      "\n"
     ]
    }
   ],
   "source": [
    "print(header)"
   ]
  },
  {
   "cell_type": "markdown",
   "metadata": {},
   "source": [
    "And here is a plot of the data. "
   ]
  },
  {
   "cell_type": "code",
   "execution_count": null,
   "metadata": {},
   "outputs": [
    {
     "data": {
      "image/png": "[encoded data removed]",
      "text/plain": [
       "<Figure size 576x360 with 1 Axes>"
      ]
     },
     "metadata": {
      "needs_background": "light"
     },
     "output_type": "display_data"
    }
   ],
   "source": [
    "extent = [times[0], times[-1], nms[-1], nms[0]]\n",
    "\n",
    "fig, ax = plt.subplots(figsize=[8, 5])\n",
    "ax.imshow(pda_data.T, aspect='auto', extent=extent)\n",
    "ax.set_xlabel('Retention time (min)')\n",
    "ax.set_ylabel('Wavelength (nm)')\n",
    "ax.set_title(pda_filename); "
   ]
  },
  {
   "cell_type": "code",
   "execution_count": null,
   "metadata": {},
   "outputs": [],
   "source": [
    "#| export \n",
    "\n",
    "import re \n",
    "import numpy as np  \n"
   ]
  },
  {
   "cell_type": "code",
   "execution_count": null,
   "metadata": {},
   "outputs": [],
   "source": [
    "#| export \n",
    "\n",
    "def read_pda(filename, sep='\\t', encoding='utf-8-sig', thousand_sep=','): \n",
    "    '''Read Thermo PDA text file. \n",
    "    \n",
    "    Returns: header, nms, times, pda_data \n",
    "    '''\n",
    "    \n",
    "    # add encoding to skip Byte Order Mark (BOM) in first line  \n",
    "    # https://stackoverflow.com/questions/17912307/u-ufeff-in-python-string  \n",
    "\n",
    "    with open(filename, 'r', encoding=encoding) as fh: \n",
    "        lines = fh.readlines()\n",
    "            \n",
    "    # header block should contains less columns then data block \n",
    "    # find maximum number of columns \n",
    "    ncols_list = []\n",
    "\n",
    "    for i, line in enumerate(lines): \n",
    "\n",
    "        ncols = len(re.split('\\t', line))\n",
    "        ncols_list.append(ncols)\n",
    "\n",
    "    ncols_list = np.array(ncols_list)\n",
    "\n",
    "    ncols = max(ncols_list)\n",
    "\n",
    "    is_data = ncols_list == ncols\n",
    "    \n",
    "    # split lines into header, nms line and data lines \n",
    "    header_lines = np.array(lines)[~is_data]\n",
    "    header = ''.join(header_lines)\n",
    "\n",
    "    nms_line = np.array(lines)[is_data][0]\n",
    "    data_lines = np.array(lines)[is_data][1:]\n",
    "    n_datarows = len(data_lines) \n",
    "    \n",
    "    # find wavelength columns \n",
    "    \n",
    "    # remove stupid thousand separator \n",
    "    nms_line = re.sub(thousand_sep, '', nms_line)  \n",
    "    \n",
    "    # split nms_line and select numerical column headers with nm values \n",
    "    \n",
    "    names = re.split('\\t', nms_line) # Time (min)\\tIntegr.Time (s)\\t190.0\\t195.0 ... \\t640.0\n",
    "    num_ptrn = re.compile('^\\s*\\d+\\.*\\d*\\s*$')\n",
    "    is_num = [bool(num_ptrn.match(i)) for i in names]\n",
    "\n",
    "    nms = np.array(names)[is_num].astype(float) \n",
    "    n_datacols = len(nms) \n",
    "\n",
    "    # initialize arrays \n",
    "    pda_data = np.zeros([n_datarows, n_datacols])\n",
    "    times = np.zeros([n_datarows])\n",
    "\n",
    "    # parse data lines \n",
    "\n",
    "    for i, line in enumerate(data_lines): \n",
    "\n",
    "        #print(f'Parsing line: {i}', end='\\r')\n",
    "\n",
    "        # remove all stupid thousand separator commas to allow conversion to floats\n",
    "        line = re.sub(thousand_sep, '', line) \n",
    "\n",
    "        values = np.array(re.split('\\t', line))\n",
    "\n",
    "        pda_data[i] = values[is_num].astype(float)\n",
    "        times[i] = values[0].astype(float)\n",
    "      \n",
    "    return header, nms, times, pda_data"
   ]
  }
 ],
 "metadata": {
  "kernelspec": {
   "display_name": "python3",
   "language": "python",
   "name": "python3"
  }
 },
 "nbformat": 4,
 "nbformat_minor": 4
}
